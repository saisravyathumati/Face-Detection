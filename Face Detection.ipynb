{
 "cells": [
  {
   "cell_type": "markdown",
   "metadata": {},
   "source": [
    "# Detecting face in an image"
   ]
  },
  {
   "cell_type": "code",
   "execution_count": 1,
   "metadata": {},
   "outputs": [
    {
     "data": {
      "text/plain": [
       "'Face detection using Haar cascades is a machine learning based approach where a cascade function\\nis trained with a set of input data. OpenCV already contains many pre-trained classifiers for face,\\neyes, smiles, etc.. Now we are using face classifier.'"
      ]
     },
     "execution_count": 1,
     "metadata": {},
     "output_type": "execute_result"
    }
   ],
   "source": [
    "'''Face detection using Haar cascades is a machine learning based approach where a cascade function\n",
    "is trained with a set of input data. OpenCV already contains many pre-trained classifiers for face,\n",
    "eyes, smiles, etc.. Now we are using face classifier.'''"
   ]
  },
  {
   "cell_type": "code",
   "execution_count": 2,
   "metadata": {},
   "outputs": [
    {
     "data": {
      "text/plain": [
       "'Haar Cascade Classifiers is basically a machine learning based approach\\nwhere a cascade function is trained from a lot of images both positive(images that we try to predict)\\nand negative(images other than required ones).Based on the training it is then used to detect the objects in the other images.'"
      ]
     },
     "execution_count": 2,
     "metadata": {},
     "output_type": "execute_result"
    }
   ],
   "source": [
    "'''Haar Cascade Classifiers is basically a machine learning based approach\n",
    "where a cascade function is trained from a lot of images both positive(images that we try to predict)\n",
    "and negative(images other than required ones).Based on the training it is then used to detect the objects in the other images.'''"
   ]
  },
  {
   "cell_type": "code",
   "execution_count": 3,
   "metadata": {},
   "outputs": [
    {
     "name": "stdout",
     "output_type": "stream",
     "text": [
      "CV2 and numpy are imported\n"
     ]
    }
   ],
   "source": [
    "'''Import necessary libraries'''\n",
    "\n",
    "import cv2\n",
    "import numpy\n",
    "print(\"CV2 and numpy are imported\")"
   ]
  },
  {
   "cell_type": "code",
   "execution_count": 4,
   "metadata": {},
   "outputs": [],
   "source": [
    "'''CascadeClassifier function of OpenCV to point to the location \n",
    "where we have stored the XML file. In our project it is \n",
    "haarcascade_frontalface_default.xml is the CascadeClassifier'''\n",
    "\n",
    "face_cascade = cv2.CascadeClassifier(cv2.data.haarcascades + \"haarcascade_frontalface_default.xml\")"
   ]
  },
  {
   "cell_type": "code",
   "execution_count": 5,
   "metadata": {},
   "outputs": [],
   "source": [
    "'''Import the image'''\n",
    "\n",
    "img=cv2.imread('C:/Users/dell/Desktop/barack_obama.png')"
   ]
  },
  {
   "cell_type": "code",
   "execution_count": 6,
   "metadata": {},
   "outputs": [],
   "source": [
    "'''Convert the image to gray-scale. \n",
    "Generally the images that we see are in the form of RGB channel\n",
    "(Red, Green, Blue). So, when OpenCV reads the RGB image, it usually \n",
    "stores the image in BGR (Blue, Green, Red) channel. \n",
    "For the purposes of image recognition, we need to convert this \n",
    "BGR channel to gray channel. The reason for this is gray channel \n",
    "is easy to process and is computationally less intensive as it \n",
    "contains only 1-channel of black-white.'''\n",
    "\n",
    "imgGray=cv2.cvtColor(img,cv2.COLOR_BGR2GRAY)"
   ]
  },
  {
   "cell_type": "code",
   "execution_count": 7,
   "metadata": {},
   "outputs": [],
   "source": [
    "'''In this piece of code what we are trying to do is, using the face_cascade\n",
    "which is an object loaded with haarcascade_frontalface_default.xml,\n",
    "we are using an inbuilt function with it called the detectMultiScale.\n",
    "This function will help us to find the features/locations of the new image. \n",
    "The way it does is, it will use all the features from the face_cascade\n",
    "object to detect the features of the new image.\n",
    "Parameters are the image that is converted to gray and the scaleFactor, \n",
    "by rescaling the input image, you can resize a larger face to a smaller one,\n",
    "making it detectable by the algorithm. and minNeighbors, \n",
    "This parameter will affect the quality of the detected faces.'''\n",
    "\n",
    "faces=face_cascade.detectMultiScale(imgGray,1.3,5)"
   ]
  },
  {
   "cell_type": "code",
   "execution_count": 8,
   "metadata": {},
   "outputs": [],
   "source": [
    "(x,y,w,h)=faces[0]\n",
    "for (x,y,w,h) in faces:\n",
    "  cv2.rectangle(img,(x,y),(x+w,y+h),(255,0,0),2)"
   ]
  },
  {
   "cell_type": "code",
   "execution_count": 9,
   "metadata": {},
   "outputs": [],
   "source": [
    "cv2.imshow(\"Result\", img)\n",
    "cv2.waitKey(0) \n",
    "cv2.destroyAllWindows()"
   ]
  },
  {
   "cell_type": "markdown",
   "metadata": {},
   "source": [
    "# Detecting frames of a webcam"
   ]
  },
  {
   "cell_type": "code",
   "execution_count": 10,
   "metadata": {},
   "outputs": [],
   "source": [
    "import cv2\n",
    "from random import randrange"
   ]
  },
  {
   "cell_type": "code",
   "execution_count": 11,
   "metadata": {},
   "outputs": [],
   "source": [
    "face_cascade = cv2.CascadeClassifier(cv2.data.haarcascades + \"haarcascade_frontalface_default.xml\")"
   ]
  },
  {
   "cell_type": "code",
   "execution_count": 12,
   "metadata": {},
   "outputs": [],
   "source": [
    "webcam=cv2.VideoCapture(0)"
   ]
  },
  {
   "cell_type": "code",
   "execution_count": null,
   "metadata": {},
   "outputs": [],
   "source": [
    "\n",
    "while(True):\n",
    "    successful_frame_read,frame=webcam.read()\n",
    "    grayimg=cv2.cvtColor(frame,cv2.COLOR_BGR2GRAY)\n",
    "    face_coordinates=face_cascade.detectMultiScale(grayimg,1.3,5)\n",
    "    for (x,y,w,h) in face_coordinates:\n",
    "        cv2.rectangle(frame,(x,y),(x+w,y+h),(randrange(256),randrange(256),randrange(256)),10)\n",
    "        cv2.imshow(\"Face Detection\",frame)\n",
    "        cv2.waitKey(1)\n",
    "    exit(0)\n"
   ]
  }
 ],
 "metadata": {
  "kernelspec": {
   "display_name": "Python 3",
   "language": "python",
   "name": "python3"
  },
  "language_info": {
   "codemirror_mode": {
    "name": "ipython",
    "version": 3
   },
   "file_extension": ".py",
   "mimetype": "text/x-python",
   "name": "python",
   "nbconvert_exporter": "python",
   "pygments_lexer": "ipython3",
   "version": "3.8.3"
  }
 },
 "nbformat": 4,
 "nbformat_minor": 4
}
